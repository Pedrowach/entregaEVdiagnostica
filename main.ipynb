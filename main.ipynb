{
 "cells": [
  {
   "cell_type": "code",
   "execution_count": 9,
   "metadata": {},
   "outputs": [],
   "source": [
    "import json\n",
    "import pandas as pd \n",
    "from operator import itemgetter\n",
    "tweets = []\n",
    "for line in open('farmers-protest-tweets-2021-03-5.json', 'r'):\n",
    "    tweets.append(json.loads(line))\n",
    "# with open('farmers-protest-tweets-2021-03-5.json') as file:\n",
    "#     data = json.load(file)"
   ]
  },
  {
   "cell_type": "code",
   "execution_count": 57,
   "metadata": {},
   "outputs": [],
   "source": [
    "from operator import itemgetter\n",
    "\n",
    "def top_10_retweets(diccionario):\n",
    "    \n",
    "    sorted_by_retweet = sorted(diccionario, key=itemgetter('retweetCount'))[::-1]\n",
    "    print(sorted_by_retweet[0:10])\n",
    "    return sorted_by_retweet[0:10]\n",
    "\n",
    "\n",
    "\n"
   ]
  },
  {
   "cell_type": "code",
   "execution_count": 53,
   "metadata": {},
   "outputs": [
    {
     "name": "stdout",
     "output_type": "stream",
     "text": [
      "{'url': 'https://twitter.com/ShashiRajbhar6/status/1376739399593910273', 'date': '2021-03-30T03:33:46+00:00', 'content': 'Support 👇\\n\\n#FarmersProtest', 'renderedContent': 'Support 👇\\n\\n#FarmersProtest', 'id': 1376739399593910273, 'user': {'username': 'ShashiRajbhar6', 'displayname': 'Shashi Rajbhar', 'id': 1015969769760096256, 'description': \"Satya presan 🤔ho Sakta but prajit💪 nhi\\njhuth se samjhauta kbhi nhi\\nJai Shree Ram 🕉 🙏🕉 followed by hon'ble @ArunrajbharSbsp\", 'rawDescription': \"Satya presan 🤔ho Sakta but prajit💪 nhi\\njhuth se samjhauta kbhi nhi\\nJai Shree Ram 🕉 🙏🕉 followed by hon'ble @ArunrajbharSbsp\", 'descriptionUrls': [], 'verified': False, 'created': '2018-07-08T14:44:03+00:00', 'followersCount': 1788, 'friendsCount': 1576, 'statusesCount': 14396, 'favouritesCount': 26071, 'listedCount': 1, 'mediaCount': 254, 'location': 'Azm Uttar Pradesh, India', 'protected': False, 'linkUrl': None, 'linkTcourl': None, 'profileImageUrl': 'https://pbs.twimg.com/profile_images/1354331299868237825/eDzdhZTD_normal.jpg', 'profileBannerUrl': 'https://pbs.twimg.com/profile_banners/1015969769760096256/1613727783', 'url': 'https://twitter.com/ShashiRajbhar6'}, 'outlinks': [], 'tcooutlinks': [], 'replyCount': 0, 'retweetCount': 0, 'likeCount': 0, 'quoteCount': 0, 'conversationId': 1376739399593910273, 'lang': 'en', 'source': '<a href=\"http://twitter.com/download/android\" rel=\"nofollow\">Twitter for Android</a>', 'sourceUrl': 'http://twitter.com/download/android', 'sourceLabel': 'Twitter for Android', 'media': None, 'retweetedTweet': None, 'quotedTweet': None, 'mentionedUsers': None}\n",
      "[('harjot_tweeting', 7134), ('tasveersandhu', 2091), ('shells_n_petals', 1991), ('jot__b', 1841), ('rebelpacifist', 1806), ('rumsomal', 1722), ('Iamjazzie96', 1502), ('Jass_k_G', 1460), ('DigitalKisanBot', 1453), ('z_khalique007', 1446)]\n"
     ]
    }
   ],
   "source": [
    "from collections import Counter\n",
    "\n",
    "def top_10_users(diccionario):\n",
    "    u = Counter(tok['user']['username'] for tok in diccionario)\n",
    "    print(u.most_common(10))\n",
    "    return u.most_common(10)\n"
   ]
  },
  {
   "cell_type": "code",
   "execution_count": 55,
   "metadata": {},
   "outputs": [
    {
     "name": "stdout",
     "output_type": "stream",
     "text": [
      "[('harjot_tweeting', 7134), ('tasveersandhu', 2091), ('shells_n_petals', 1991), ('jot__b', 1841), ('rebelpacifist', 1806), ('rumsomal', 1722), ('Iamjazzie96', 1502), ('Jass_k_G', 1460), ('DigitalKisanBot', 1453), ('z_khalique007', 1446)]\n"
     ]
    }
   ],
   "source": [
    "def main(diccionario):\n",
    "    \n",
    "    top_10_retweets(diccionario)\n",
    "    top_10_users(diccionario)\n",
    "    \n",
    "\n",
    "main(tweets)\n",
    "    "
   ]
  }
 ],
 "metadata": {
  "interpreter": {
   "hash": "b89b5cfaba6639976dc87ff2fec6d58faec662063367e2c229c520fe71072417"
  },
  "kernelspec": {
   "display_name": "Python 3.10.4 64-bit",
   "language": "python",
   "name": "python3"
  },
  "language_info": {
   "codemirror_mode": {
    "name": "ipython",
    "version": 3
   },
   "file_extension": ".py",
   "mimetype": "text/x-python",
   "name": "python",
   "nbconvert_exporter": "python",
   "pygments_lexer": "ipython3",
   "version": "3.10.4"
  },
  "orig_nbformat": 4
 },
 "nbformat": 4,
 "nbformat_minor": 2
}
